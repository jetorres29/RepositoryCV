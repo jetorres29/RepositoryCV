{
 "cells": [
  {
   "cell_type": "markdown",
   "metadata": {},
   "source": [
    "## Clustering - No supervisado"
   ]
  },
  {
   "cell_type": "markdown",
   "metadata": {},
   "source": [
    "### Dataset retornos"
   ]
  },
  {
   "cell_type": "code",
   "execution_count": null,
   "metadata": {},
   "outputs": [],
   "source": [
    "import pandas as pd"
   ]
  },
  {
   "cell_type": "code",
   "execution_count": null,
   "metadata": {},
   "outputs": [],
   "source": [
    "import numpy as np\n",
    "import matplotlib.pyplot as plt\n",
    "import seaborn as sns\n",
    "from scipy.spatial import distance\n",
    "from sklearn.preprocessing import MinMaxScaler\n",
    "\n",
    "from sklearn.cluster import KMeans\n",
    "\n",
    "#!pip install tsfresh\n",
    "\n",
    "from tsfresh import extract_features\n",
    "from tsfresh.utilities.dataframe_functions import impute"
   ]
  },
  {
   "cell_type": "code",
   "execution_count": null,
   "metadata": {},
   "outputs": [],
   "source": [
    "file_name = 'retornos.csv'"
   ]
  },
  {
   "cell_type": "code",
   "execution_count": null,
   "metadata": {},
   "outputs": [],
   "source": [
    "data = pd.read_csv(file_name,sep =\",\",encoding = 'UTF-8')\n",
    "data.pop('Unnamed: 0')\n",
    "print(data.shape)\n",
    "data.head()"
   ]
  },
  {
   "cell_type": "markdown",
   "metadata": {},
   "source": [
    "### Nuevas caracteristicas"
   ]
  },
  {
   "cell_type": "code",
   "execution_count": null,
   "metadata": {},
   "outputs": [],
   "source": [
    "data_tsfresh = data.stack().reset_index()\n",
    "data_tsfresh.columns = ['Nivel','id','value']\n",
    "data_tsfresh.head()"
   ]
  },
  {
   "cell_type": "code",
   "execution_count": null,
   "metadata": {},
   "outputs": [],
   "source": [
    "X_tsfresh = extract_features(data_tsfresh, column_id=\"id\", column_sort=\"Nivel\", column_value=\"value\", impute_function=impute, \n",
    "                     show_warnings=False)"
   ]
  },
  {
   "cell_type": "code",
   "execution_count": null,
   "metadata": {},
   "outputs": [],
   "source": [
    "X_data = X_tsfresh.copy()\n",
    "print(X_data.shape)\n",
    "X_data.head()"
   ]
  },
  {
   "cell_type": "markdown",
   "metadata": {},
   "source": [
    "### normalizacion minmax [0,1]"
   ]
  },
  {
   "cell_type": "code",
   "execution_count": null,
   "metadata": {},
   "outputs": [],
   "source": [
    "scaler_minmax = MinMaxScaler()\n",
    "X_scaled_ts_min_max=scaler_minmax.fit_transform(X_data) #datos minmax\n",
    "normalized_data_matrix =X_scaled_ts_min_max #ojo datos de substract"
   ]
  },
  {
   "cell_type": "markdown",
   "metadata": {},
   "source": [
    "## Algoritmos no supervisados\n",
    "### 1. K no conocido"
   ]
  },
  {
   "cell_type": "markdown",
   "metadata": {},
   "source": [
    "### 1.1 Substractive"
   ]
  },
  {
   "cell_type": "code",
   "execution_count": null,
   "metadata": {},
   "outputs": [],
   "source": [
    "def set_colors(labels, colors='rgb'):\n",
    "    colored_labels = []\n",
    "    for label in labels:\n",
    "        colored_labels.append(colors[label])\n",
    "    return colored_labels"
   ]
  },
  {
   "cell_type": "code",
   "execution_count": null,
   "metadata": {},
   "outputs": [],
   "source": [
    "# initialize potentials\n",
    "def substractive(normalized_data_matrix,ra,Eup = 0.5,Edown = 0.15):\n",
    "    rb = ra * 1.15\n",
    "    colors_options = 'rgb'\n",
    "    cluster_center = []\n",
    "    size = len(normalized_data_matrix)\n",
    "    potential = [0.0] * size\n",
    "    for i in range(size):\n",
    "        Xi = normalized_data_matrix[i]\n",
    "        for j in range(i + 1, size):\n",
    "            Xj = normalized_data_matrix[j]\n",
    "            value = np.exp(-4.0 * (distance.euclidean(Xi, Xj)) / (ra / 2) ** 2)\n",
    "            potential[i] += value\n",
    "            potential[j] += value\n",
    "    max_potential_value = max(potential)  # p1\n",
    "    max_potential_index = potential.index(max_potential_value)\n",
    "    # filter through accept and reject criteria\n",
    "    current_max_value = max_potential_value\n",
    "    criteria = 1\n",
    "    while criteria and current_max_value:\n",
    "        criteria = 0\n",
    "        max_potential_vector = normalized_data_matrix[max_potential_index]  # x1\n",
    "        potential_ratio = current_max_value / max_potential_value  # Pk and MaxPValue\n",
    "        print(f'Maximal_potencial_value: {max_potential_value}')\n",
    "\n",
    "        if potential_ratio > Eup:\n",
    "            criteria = 1\n",
    "        elif potential_ratio > Edown:\n",
    "            dmin = np.min([distance.euclidean(max_potential_vector, cc) for cc in cluster_center])\n",
    "            if ((dmin / ra) + potential_ratio) >= 1:\n",
    "                criteria = 1\n",
    "            else:\n",
    "                criteria = 2\n",
    "        elif potential_ratio < Edown:\n",
    "            break\n",
    "        print(f'Criteria: {criteria}')\n",
    "        if criteria is 1:\n",
    "            cluster_center.append(max_potential_vector)\n",
    "            for i in range(size):\n",
    "                Xj = normalized_data_matrix[i]\n",
    "                potential_value = potential[i]\n",
    "                potential_value = potential_value - (current_max_value * np.exp(-4.0 *(distance.euclidean(max_potential_vector, Xj)) / (rb / 2) ** 2))\n",
    "                if potential_value < 0:\n",
    "                    potential_value = 0\n",
    "                potential[i] = potential_value\n",
    "            current_max_value = max(potential)  # p1\n",
    "            print(f'Current_max_value: {current_max_value}')\n",
    "            max_potential_index = potential.index(current_max_value)\n",
    "        elif criteria is 2:\n",
    "            potential[max_potential_index] = 0\n",
    "            current_max_value = max(potential)  # p1\n",
    "            print(f'Current_max_value: {current_max_value}')\n",
    "            max_potential_index = potential.index(current_max_value)\n",
    "    print('Subtractive cluster centers')\n",
    "    print(len(cluster_center))\n",
    "    return len(cluster_center)"
   ]
  },
  {
   "cell_type": "code",
   "execution_count": null,
   "metadata": {},
   "outputs": [],
   "source": [
    "kclus = []\n",
    "for i in np.arange(0,2.1,0.1):\n",
    "    ra = i\n",
    "    print(ra)\n",
    "    aux = substractive(normalized_data_matrix,ra,Eup = 0.5,Edown = 0.15)\n",
    "    kclus.append(aux)"
   ]
  },
  {
   "cell_type": "code",
   "execution_count": null,
   "metadata": {},
   "outputs": [],
   "source": [
    "print(kclus) # numero de clusters sensibilizando parametros\n",
    "print(\"minimo numero de clusters:\", min(kclus))\n",
    "print(\"maximo numero de clusters:\", max(kclus))"
   ]
  },
  {
   "cell_type": "markdown",
   "metadata": {},
   "source": [
    "### 1.2. AffinityPropagation"
   ]
  },
  {
   "cell_type": "code",
   "execution_count": null,
   "metadata": {},
   "outputs": [],
   "source": [
    "from sklearn.cluster import AffinityPropagation\n",
    "\n",
    "kclus2 = []\n",
    "for i in np.arange(0.5,1,0.05):\n",
    "    clustering = AffinityPropagation(damping=i).fit(normalized_data_matrix)\n",
    "    kclus2.append(max(clustering.labels_)+1)"
   ]
  },
  {
   "cell_type": "code",
   "execution_count": null,
   "metadata": {},
   "outputs": [],
   "source": [
    "print(kclus2) # numero de clusters sensibilizando parametros\n",
    "print(\"minimo numero de clusters:\", min(kclus2))\n",
    "print(\"maximo numero de clusters:\", max(kclus2))"
   ]
  },
  {
   "cell_type": "markdown",
   "metadata": {},
   "source": [
    "### 1.3. MeanShift"
   ]
  },
  {
   "cell_type": "code",
   "execution_count": null,
   "metadata": {},
   "outputs": [],
   "source": [
    "from sklearn.cluster import MeanShift\n",
    "\n",
    "kclus3 = []\n",
    "for i in np.arange(1,10,1):\n",
    "    clustering = MeanShift(bandwidth=i).fit(normalized_data_matrix)\n",
    "    kclus3.append(max(clustering.labels_)+1)\n",
    "clustering"
   ]
  },
  {
   "cell_type": "code",
   "execution_count": null,
   "metadata": {},
   "outputs": [],
   "source": [
    "print(kclus3) # numero de clusters sensibilizando parametros\n",
    "print(\"minimo numero de clusters:\", min(kclus3))\n",
    "print(\"maximo numero de clusters:\", max(kclus3))"
   ]
  },
  {
   "cell_type": "code",
   "execution_count": null,
   "metadata": {},
   "outputs": [],
   "source": [
    "plt.plot(kclus3)\n",
    "plt.title(\"Meanshift\")\n",
    "plt.xlabel(\"bandwidth\")\n",
    "plt.ylabel(\"Clusters\")"
   ]
  },
  {
   "cell_type": "markdown",
   "metadata": {},
   "source": [
    "### 2. K conocido"
   ]
  },
  {
   "cell_type": "markdown",
   "metadata": {},
   "source": [
    "### 2.1. K - Means"
   ]
  },
  {
   "cell_type": "code",
   "execution_count": null,
   "metadata": {},
   "outputs": [],
   "source": [
    "kmeans = KMeans(n_clusters=7, random_state=0).fit(normalized_data_matrix)"
   ]
  },
  {
   "cell_type": "code",
   "execution_count": null,
   "metadata": {},
   "outputs": [],
   "source": [
    "y_pred = KMeans(n_clusters=7, random_state=0).fit_predict(normalized_data_matrix)"
   ]
  },
  {
   "cell_type": "code",
   "execution_count": null,
   "metadata": {},
   "outputs": [],
   "source": [
    "centroids=kmeans.cluster_centers_[:,0:2] # se toman 2 features\n",
    "centroids"
   ]
  },
  {
   "cell_type": "code",
   "execution_count": null,
   "metadata": {},
   "outputs": [],
   "source": [
    "plt.scatter(normalized_data_matrix[:, 0], normalized_data_matrix[:,1], c=y_pred)\n",
    "plt.scatter(centroids[:,0],centroids[:,1],c='r',marker='X')\n",
    "plt.title(\"Unequal Variance\")"
   ]
  },
  {
   "cell_type": "markdown",
   "metadata": {},
   "source": [
    "### 2.2. Fuzzy c-means clustering"
   ]
  },
  {
   "cell_type": "code",
   "execution_count": null,
   "metadata": {},
   "outputs": [],
   "source": [
    "#!pip install -U scikit-fuzzy"
   ]
  },
  {
   "cell_type": "code",
   "execution_count": null,
   "metadata": {},
   "outputs": [],
   "source": [
    "from __future__ import division, print_function\n",
    "import numpy as np\n",
    "import matplotlib.pyplot as plt\n",
    "import skfuzzy as fuzz"
   ]
  },
  {
   "cell_type": "markdown",
   "metadata": {},
   "source": [
    "The fuzzy partition coefficient (FPC)\n",
    "The FPC is defined on the range from 0 to 1, with 1 being best. It is a metric which tells us how cleanly our data is described by a certain model. Next we will cluster our set of data - which we know has three clusters - several times, with between 2 and 9 clusters. We will then show the results of the clustering, and plot the fuzzy partition coefficient. When the FPC is maximized, our data is described best."
   ]
  },
  {
   "cell_type": "code",
   "execution_count": null,
   "metadata": {},
   "outputs": [],
   "source": [
    "colors = ['b', 'orange', 'g', 'r', 'c', 'm', 'y', 'k', 'Brown', 'ForestGreen']\n",
    "# Set up the loop and plot\n",
    "fig1, axes1 = plt.subplots(3, 3, figsize=(8, 8))\n",
    "xpts=normalized_data_matrix[:,0]\n",
    "ypts=normalized_data_matrix[:,1]\n",
    "alldata = np.vstack((xpts, ypts))\n",
    "fpcs = []\n",
    "\n",
    "for ncenters, ax in enumerate(axes1.reshape(-1), 2):\n",
    "    print(ncenters,ax)\n",
    "    cntr, u, u0, d, jm, p, fpc = fuzz.cluster.cmeans(\n",
    "        alldata, ncenters, 2, error=0.005, maxiter=1000, init=None)\n",
    "\n",
    "    # Store fpc values for later\n",
    "    fpcs.append(fpc)\n",
    "\n",
    "    # Plot assigned clusters, for each data point in training set\n",
    "    cluster_membership = np.argmax(u, axis=0)\n",
    "    for j in range(ncenters):\n",
    "        ax.plot(xpts[cluster_membership == j],\n",
    "                ypts[cluster_membership == j], '.', color=colors[j])\n",
    "\n",
    "    # Mark the center of each fuzzy cluster\n",
    "    for pt in cntr:\n",
    "        ax.plot(pt[0], pt[1], 'rs')\n",
    "\n",
    "    ax.set_title('Centers = {0}; FPC = {1:.2f}'.format(ncenters, fpc))\n",
    "    ax.axis('off')\n",
    "\n",
    "fig1.tight_layout()\n"
   ]
  },
  {
   "cell_type": "markdown",
   "metadata": {},
   "source": [
    "### Algoritmo individual - Fuzzy c-means"
   ]
  },
  {
   "cell_type": "code",
   "execution_count": null,
   "metadata": {},
   "outputs": [],
   "source": [
    "ncenters=7\n",
    "cntr, u, u0, d, jm, p, fpc = fuzz.cluster.cmeans(normalized_data_matrix.T, ncenters, 2, error=0.005, maxiter=1000, init=None) #datos transpuestos\n",
    "xpts=normalized_data_matrix[:,0]\n",
    "ypts=normalized_data_matrix[:,1]"
   ]
  },
  {
   "cell_type": "code",
   "execution_count": null,
   "metadata": {},
   "outputs": [],
   "source": [
    "cluster_membership = np.argmax(u, axis=0)\n",
    "for j in range(ncenters):\n",
    "    plt.plot(xpts[cluster_membership == j],\n",
    "            ypts[cluster_membership == j], '.', color=colors[j])\n",
    "\n",
    "    # Mark the center of each fuzzy cluster\n",
    "for pt in cntr:\n",
    "    plt.plot(pt[0], pt[1], 'rs')\n",
    "\n",
    "plt.title('Centers = {0}; FPC = {1:.2f}'.format(ncenters, fpc))\n",
    "\n",
    "fig1.tight_layout()"
   ]
  },
  {
   "cell_type": "markdown",
   "metadata": {},
   "source": [
    "### Prediccion"
   ]
  },
  {
   "cell_type": "code",
   "execution_count": null,
   "metadata": {},
   "outputs": [],
   "source": [
    "u, u0, d, jm, p, fpc = fuzz.cluster.cmeans_predict(normalized_data_matrix.T, cntr, 2, error=0.005, maxiter=1000)\n",
    "\n",
    "cluster_membership = np.argmax(u, axis=0)  # Hardening for visualization\n",
    "\n",
    "fig3, ax3 = plt.subplots()\n",
    "ax3.set_title('Predictions')\n",
    "for j in range(ncenters):\n",
    "    ax3.plot(normalized_data_matrix[cluster_membership == j, 0],\n",
    "             normalized_data_matrix[cluster_membership == j, 1], 'o',\n",
    "             label='series ' + str(j))\n",
    "ax3.legend()\n",
    "\n",
    "plt.show()"
   ]
  },
  {
   "cell_type": "markdown",
   "metadata": {},
   "source": [
    "### 2.3. SpectralClustering"
   ]
  },
  {
   "cell_type": "code",
   "execution_count": null,
   "metadata": {},
   "outputs": [],
   "source": [
    "from sklearn.cluster import SpectralClustering"
   ]
  },
  {
   "cell_type": "code",
   "execution_count": null,
   "metadata": {},
   "outputs": [],
   "source": [
    "clustering = SpectralClustering(n_clusters=7,assign_labels=\"discretize\",random_state=0).fit(normalized_data_matrix)"
   ]
  },
  {
   "cell_type": "code",
   "execution_count": null,
   "metadata": {},
   "outputs": [],
   "source": [
    "clustering.labels_"
   ]
  },
  {
   "cell_type": "code",
   "execution_count": null,
   "metadata": {},
   "outputs": [],
   "source": [
    "for j in range(clustering.n_clusters):\n",
    "    plt.plot(xpts[clustering.labels_ == j],\n",
    "            ypts[clustering.labels_ == j], '.', color=colors[j])\n",
    "\n",
    "plt.title('Clusters = {0}'.format(clustering.n_clusters))\n",
    "\n",
    "fig1.tight_layout()"
   ]
  },
  {
   "cell_type": "markdown",
   "metadata": {},
   "source": [
    "### Resultados algoritmos Clustering"
   ]
  },
  {
   "cell_type": "code",
   "execution_count": null,
   "metadata": {},
   "outputs": [],
   "source": [
    "pred=pd.DataFrame([y_pred, cluster_membership,clustering.labels_])\n",
    "pred"
   ]
  },
  {
   "cell_type": "code",
   "execution_count": null,
   "metadata": {},
   "outputs": [],
   "source": [
    "m=3\n",
    "n=pred.shape[1] #recorre numero de activos 33 en este caso\n",
    "hm=np.zeros((n,n))\n",
    "for i in range(m):\n",
    "    for j in range(n):\n",
    "        for k in range(n):\n",
    "            if pred.iloc[i,j]==pred.iloc[i,k]:\n",
    "                hm[j,k]+=1\n",
    "            else:\n",
    "                hm[j,k]+=0"
   ]
  },
  {
   "cell_type": "code",
   "execution_count": null,
   "metadata": {},
   "outputs": [],
   "source": [
    "cols=X_data.index.tolist()\n",
    "hm=pd.DataFrame(hm)\n",
    "hm.columns = cols\n",
    "hm.index = cols"
   ]
  },
  {
   "cell_type": "code",
   "execution_count": null,
   "metadata": {},
   "outputs": [],
   "source": [
    "plt.subplots(figsize=(8,6))\n",
    "ax = sns.heatmap(hm,cmap='Blues',yticklabels=hm.index)\n",
    "ax.invert_yaxis()"
   ]
  },
  {
   "cell_type": "code",
   "execution_count": null,
   "metadata": {},
   "outputs": [],
   "source": [
    "hm2=hm.sort_values(by=hm.columns.tolist()) #ordeno todas las columnas"
   ]
  },
  {
   "cell_type": "code",
   "execution_count": null,
   "metadata": {},
   "outputs": [],
   "source": [
    "hm2=hm2[hm2.index]\n",
    "hm2.head()"
   ]
  },
  {
   "cell_type": "code",
   "execution_count": null,
   "metadata": {},
   "outputs": [],
   "source": [
    "plt.subplots(figsize=(8,6))\n",
    "ax = sns.heatmap(hm2,cmap='Blues',cbar_kws={'ticks': [0,1,2,3]}, vmin=0, vmax=3,yticklabels=hm2.index)\n",
    "ax.invert_yaxis()"
   ]
  },
  {
   "cell_type": "markdown",
   "metadata": {},
   "source": [
    "### PCA"
   ]
  },
  {
   "cell_type": "code",
   "execution_count": null,
   "metadata": {},
   "outputs": [],
   "source": [
    "from sklearn.decomposition import PCA\n",
    "\n",
    "pca = PCA(n_components=2)\n",
    "pca.fit(normalized_data_matrix)\n",
    "             \n",
    "print(pca.explained_variance_ratio_)  "
   ]
  },
  {
   "cell_type": "code",
   "execution_count": null,
   "metadata": {},
   "outputs": [],
   "source": [
    "X_data_pca=pca.fit_transform(normalized_data_matrix)\n",
    "X_data_pca.shape"
   ]
  },
  {
   "cell_type": "markdown",
   "metadata": {},
   "source": [
    "#### K - Means"
   ]
  },
  {
   "cell_type": "code",
   "execution_count": null,
   "metadata": {},
   "outputs": [],
   "source": [
    "kmeans = KMeans(n_clusters=7, random_state=0).fit(X_data_pca)"
   ]
  },
  {
   "cell_type": "code",
   "execution_count": null,
   "metadata": {},
   "outputs": [],
   "source": [
    "y_pred = KMeans(n_clusters=7, random_state=0).fit_predict(X_data_pca)"
   ]
  },
  {
   "cell_type": "code",
   "execution_count": null,
   "metadata": {},
   "outputs": [],
   "source": [
    "centroids=kmeans.cluster_centers_[:,0:2] # se toman 2 features\n",
    "centroids"
   ]
  },
  {
   "cell_type": "code",
   "execution_count": null,
   "metadata": {},
   "outputs": [],
   "source": [
    "plt.scatter(X_data_pca[:, 0], X_data_pca[:,1], c=y_pred)\n",
    "plt.scatter(centroids[:,0],centroids[:,1],c='r',marker='X')\n",
    "plt.title(\"Unequal Variance\")"
   ]
  },
  {
   "cell_type": "markdown",
   "metadata": {},
   "source": [
    "#### Fuzzy c-means clustering"
   ]
  },
  {
   "cell_type": "code",
   "execution_count": null,
   "metadata": {},
   "outputs": [],
   "source": [
    "ncenters=7\n",
    "cntr, u, u0, d, jm, p, fpc = fuzz.cluster.cmeans(X_data_pca.T, ncenters, 2, error=0.005, maxiter=1000, init=None) #datos transpuestos\n",
    "xpts=X_data_pca[:,0]\n",
    "ypts=X_data_pca[:,1]"
   ]
  },
  {
   "cell_type": "code",
   "execution_count": null,
   "metadata": {},
   "outputs": [],
   "source": [
    "cluster_membership = np.argmax(u, axis=0)\n",
    "for j in range(ncenters):\n",
    "    plt.plot(xpts[cluster_membership == j],\n",
    "            ypts[cluster_membership == j], '.', color=colors[j])\n",
    "\n",
    "    # Mark the center of each fuzzy cluster\n",
    "for pt in cntr:\n",
    "    plt.plot(pt[0], pt[1], 'rs')\n",
    "\n",
    "plt.title('Centers = {0}; FPC = {1:.2f}'.format(ncenters, fpc))\n",
    "\n",
    "fig1.tight_layout()"
   ]
  },
  {
   "cell_type": "markdown",
   "metadata": {},
   "source": [
    "#### SpectralClustering"
   ]
  },
  {
   "cell_type": "code",
   "execution_count": null,
   "metadata": {},
   "outputs": [],
   "source": [
    "clustering = SpectralClustering(n_clusters=7,assign_labels=\"discretize\",random_state=0).fit(X_data_pca)"
   ]
  },
  {
   "cell_type": "code",
   "execution_count": null,
   "metadata": {},
   "outputs": [],
   "source": [
    "clustering.labels_"
   ]
  },
  {
   "cell_type": "code",
   "execution_count": null,
   "metadata": {},
   "outputs": [],
   "source": [
    "for j in range(clustering.n_clusters):\n",
    "    plt.plot(xpts[clustering.labels_ == j],\n",
    "            ypts[clustering.labels_ == j], '.', color=colors[j])\n",
    "\n",
    "plt.title('Clusters = {0}'.format(clustering.n_clusters))\n",
    "\n",
    "fig1.tight_layout()"
   ]
  },
  {
   "cell_type": "markdown",
   "metadata": {},
   "source": [
    "#### Resultados algoritmos Clustering PCA"
   ]
  },
  {
   "cell_type": "code",
   "execution_count": null,
   "metadata": {},
   "outputs": [],
   "source": [
    "pred=pd.DataFrame([y_pred, cluster_membership,clustering.labels_])\n",
    "pred"
   ]
  },
  {
   "cell_type": "code",
   "execution_count": null,
   "metadata": {},
   "outputs": [],
   "source": [
    "m=3\n",
    "n=pred.shape[1] #recorre numero de activos 33 en este caso\n",
    "hm=np.zeros((n,n))\n",
    "for i in range(m):\n",
    "    for j in range(n):\n",
    "        for k in range(n):\n",
    "            if pred.iloc[i,j]==pred.iloc[i,k]:\n",
    "                hm[j,k]+=1\n",
    "            else:\n",
    "                hm[j,k]+=0"
   ]
  },
  {
   "cell_type": "code",
   "execution_count": null,
   "metadata": {},
   "outputs": [],
   "source": [
    "cols=X_data.index.tolist()\n",
    "hm=pd.DataFrame(hm)\n",
    "hm.columns = cols\n",
    "hm.index = cols"
   ]
  },
  {
   "cell_type": "code",
   "execution_count": null,
   "metadata": {},
   "outputs": [],
   "source": [
    "plt.subplots(figsize=(8,6))\n",
    "ax = sns.heatmap(hm,cmap='Blues',yticklabels=hm.index)\n",
    "ax.invert_yaxis()"
   ]
  },
  {
   "cell_type": "code",
   "execution_count": null,
   "metadata": {},
   "outputs": [],
   "source": [
    "hm2=hm.sort_values(by=hm.columns.tolist()) #ordeno todas las columnas"
   ]
  },
  {
   "cell_type": "code",
   "execution_count": null,
   "metadata": {},
   "outputs": [],
   "source": [
    "hm2=hm2[hm2.index]\n",
    "hm2.head()"
   ]
  },
  {
   "cell_type": "code",
   "execution_count": null,
   "metadata": {},
   "outputs": [],
   "source": [
    "plt.subplots(figsize=(8,6))\n",
    "ax = sns.heatmap(hm2,cmap='Blues',cbar_kws={'ticks': [0,1,2,3]}, vmin=0, vmax=3,yticklabels=hm2.index)\n",
    "ax.invert_yaxis()"
   ]
  },
  {
   "cell_type": "markdown",
   "metadata": {},
   "source": [
    "## t-SNE"
   ]
  },
  {
   "cell_type": "code",
   "execution_count": null,
   "metadata": {},
   "outputs": [],
   "source": [
    "from sklearn.manifold import TSNE\n",
    "\n",
    "X_data_tsne=TSNE(n_components=2).fit_transform(normalized_data_matrix)\n",
    "X_data_tsne.shape"
   ]
  },
  {
   "cell_type": "markdown",
   "metadata": {},
   "source": [
    "#### K-means"
   ]
  },
  {
   "cell_type": "code",
   "execution_count": null,
   "metadata": {},
   "outputs": [],
   "source": [
    "kmeans = KMeans(n_clusters=7, random_state=0).fit(X_data_tsne)"
   ]
  },
  {
   "cell_type": "code",
   "execution_count": null,
   "metadata": {},
   "outputs": [],
   "source": [
    "y_pred = KMeans(n_clusters=7, random_state=0).fit_predict(X_data_tsne)"
   ]
  },
  {
   "cell_type": "code",
   "execution_count": null,
   "metadata": {},
   "outputs": [],
   "source": [
    "centroids=kmeans.cluster_centers_[:,0:2] # se toman 2 features\n",
    "centroids"
   ]
  },
  {
   "cell_type": "code",
   "execution_count": null,
   "metadata": {},
   "outputs": [],
   "source": [
    "plt.scatter(X_data_tsne[:, 0], X_data_tsne[:,1], c=y_pred)\n",
    "plt.scatter(centroids[:,0],centroids[:,1],c='r',marker='X')\n",
    "plt.title(\"Unequal Variance\")"
   ]
  },
  {
   "cell_type": "markdown",
   "metadata": {},
   "source": [
    "#### Fuzzy c-means clustering"
   ]
  },
  {
   "cell_type": "code",
   "execution_count": null,
   "metadata": {},
   "outputs": [],
   "source": [
    "ncenters=7\n",
    "cntr, u, u0, d, jm, p, fpc = fuzz.cluster.cmeans(X_data_tsne.T, ncenters, 2, error=0.005, maxiter=1000, init=None) #datos transpuestos\n",
    "xpts=X_data_tsne[:,0]\n",
    "ypts=X_data_tsne[:,1]"
   ]
  },
  {
   "cell_type": "code",
   "execution_count": null,
   "metadata": {},
   "outputs": [],
   "source": [
    "cluster_membership = np.argmax(u, axis=0)\n",
    "for j in range(ncenters):\n",
    "    plt.plot(xpts[cluster_membership == j],\n",
    "            ypts[cluster_membership == j], '.', color=colors[j])\n",
    "\n",
    "    # Mark the center of each fuzzy cluster\n",
    "for pt in cntr:\n",
    "    plt.plot(pt[0], pt[1], 'rs')\n",
    "\n",
    "plt.title('Centers = {0}; FPC = {1:.2f}'.format(ncenters, fpc))\n",
    "\n",
    "fig1.tight_layout()"
   ]
  },
  {
   "cell_type": "markdown",
   "metadata": {},
   "source": [
    "#### SpectralClustering"
   ]
  },
  {
   "cell_type": "code",
   "execution_count": null,
   "metadata": {},
   "outputs": [],
   "source": [
    "clustering = SpectralClustering(n_clusters=7,assign_labels=\"discretize\",random_state=0).fit(X_data_tsne)"
   ]
  },
  {
   "cell_type": "code",
   "execution_count": null,
   "metadata": {},
   "outputs": [],
   "source": [
    "clustering.labels_"
   ]
  },
  {
   "cell_type": "code",
   "execution_count": null,
   "metadata": {},
   "outputs": [],
   "source": [
    "for j in range(clustering.n_clusters):\n",
    "    plt.plot(xpts[clustering.labels_ == j],\n",
    "            ypts[clustering.labels_ == j], '.', color=colors[j])\n",
    "\n",
    "plt.title('Clusters = {0}'.format(clustering.n_clusters))\n",
    "\n",
    "fig1.tight_layout()"
   ]
  },
  {
   "cell_type": "markdown",
   "metadata": {},
   "source": [
    "#### Resultados algoritmos Clustering t-SNE"
   ]
  },
  {
   "cell_type": "code",
   "execution_count": null,
   "metadata": {},
   "outputs": [],
   "source": [
    "pred=pd.DataFrame([y_pred, cluster_membership])\n",
    "pred"
   ]
  },
  {
   "cell_type": "code",
   "execution_count": null,
   "metadata": {},
   "outputs": [],
   "source": [
    "m=2\n",
    "n=pred.shape[1] #recorre numero de activos 33 en este caso\n",
    "hm=np.zeros((n,n))\n",
    "for i in range(m):\n",
    "    for j in range(n):\n",
    "        for k in range(n):\n",
    "            if pred.iloc[i,j]==pred.iloc[i,k]:\n",
    "                hm[j,k]+=1\n",
    "            else:\n",
    "                hm[j,k]+=0"
   ]
  },
  {
   "cell_type": "code",
   "execution_count": null,
   "metadata": {},
   "outputs": [],
   "source": [
    "cols=X_data.index.tolist()\n",
    "hm=pd.DataFrame(hm)\n",
    "hm.columns = cols\n",
    "hm.index = cols"
   ]
  },
  {
   "cell_type": "code",
   "execution_count": null,
   "metadata": {},
   "outputs": [],
   "source": [
    "plt.subplots(figsize=(8,6))\n",
    "ax = sns.heatmap(hm,cmap='Blues',yticklabels=hm.index)\n",
    "ax.invert_yaxis()"
   ]
  },
  {
   "cell_type": "code",
   "execution_count": null,
   "metadata": {},
   "outputs": [],
   "source": [
    "hm2=hm.sort_values(by=hm.columns.tolist()) #ordeno todas las columnas"
   ]
  },
  {
   "cell_type": "code",
   "execution_count": null,
   "metadata": {},
   "outputs": [],
   "source": [
    "hm2=hm2[hm2.index]\n",
    "hm2.head()"
   ]
  },
  {
   "cell_type": "code",
   "execution_count": null,
   "metadata": {},
   "outputs": [],
   "source": [
    "plt.subplots(figsize=(8,6))\n",
    "ax = sns.heatmap(hm2,cmap='Blues',cbar_kws={'ticks': [0,1,2]}, vmin=0, vmax=2,yticklabels=hm2.index)\n",
    "ax.invert_yaxis()"
   ]
  },
  {
   "cell_type": "code",
   "execution_count": null,
   "metadata": {},
   "outputs": [],
   "source": []
  }
 ],
 "metadata": {
  "kernelspec": {
   "display_name": "Python 3",
   "language": "python",
   "name": "python3"
  },
  "language_info": {
   "codemirror_mode": {
    "name": "ipython",
    "version": 3
   },
   "file_extension": ".py",
   "mimetype": "text/x-python",
   "name": "python",
   "nbconvert_exporter": "python",
   "pygments_lexer": "ipython3",
   "version": "3.7.1"
  }
 },
 "nbformat": 4,
 "nbformat_minor": 2
}
